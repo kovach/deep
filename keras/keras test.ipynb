{
 "cells": [
  {
   "cell_type": "code",
   "execution_count": 1,
   "metadata": {
    "collapsed": true
   },
   "outputs": [],
   "source": [
    "import numpy as np"
   ]
  },
  {
   "cell_type": "code",
   "execution_count": 2,
   "metadata": {
    "collapsed": false
   },
   "outputs": [
    {
     "name": "stderr",
     "output_type": "stream",
     "text": [
      "Using TensorFlow backend.\n"
     ]
    }
   ],
   "source": [
    "from keras.datasets import mnist\n",
    "(X_train, Y_train), (X_test, Y_test) = mnist.load_data()"
   ]
  },
  {
   "cell_type": "code",
   "execution_count": 3,
   "metadata": {
    "collapsed": true
   },
   "outputs": [],
   "source": [
    "xav = np.average(X_train/256.0,0)"
   ]
  },
  {
   "cell_type": "code",
   "execution_count": 4,
   "metadata": {
    "collapsed": false
   },
   "outputs": [],
   "source": [
    "(x_train, x_test) = (X_train - xav, X_test - xav)\n",
    "x_train = x_train.reshape(x_train.shape[0], 28, 28, 1)\n",
    "x_test = x_test.reshape(x_test.shape[0], 28, 28, 1)\n",
    "\n",
    "from keras.utils import np_utils\n",
    "y_train, y_test = np_utils.to_categorical(Y_train,10), np_utils.to_categorical(Y_test,10)"
   ]
  },
  {
   "cell_type": "code",
   "execution_count": 25,
   "metadata": {
    "collapsed": false
   },
   "outputs": [],
   "source": [
    "#http://www.smbc-comics.com/comic/set-theory\n",
    "import matplotlib.pyplot as plt\n",
    "c = 0\n",
    "ts = [\"this is the almost null set\", \"there's a 4 in there\", \"but it's a crappy one\"]\n",
    "i = 0\n",
    "while c < 6:\n",
    "    if Y_train[i] == 4:\n",
    "        plt.imshow(X_train[i])\n",
    "        plt.title([ts[c%len(ts)]])\n",
    "        #plt.show()\n",
    "        c+=1\n",
    "    i+=1"
   ]
  },
  {
   "cell_type": "code",
   "execution_count": 6,
   "metadata": {
    "collapsed": false
   },
   "outputs": [],
   "source": [
    "limit = 12000\n",
    "x_train = x_train[0:limit]\n",
    "y_train = y_train[0:limit]\n",
    "#x_train = x_test[0:8500]"
   ]
  },
  {
   "cell_type": "code",
   "execution_count": 22,
   "metadata": {
    "collapsed": false
   },
   "outputs": [],
   "source": [
    "from keras.models import Sequential\n",
    "from keras.layers import Dense, Activation, convolutional, Flatten\n",
    "\n",
    "C2 = convolutional.Convolution2D\n",
    "\n",
    "model = Sequential()\n",
    "model.add(C2(6,3,3, border_mode='same', input_shape=(28,28,1)))\n",
    "model.add(Activation('relu'))\n",
    "model.add(C2(6,3,3, border_mode='same', input_shape=(28,28,1)))\n",
    "model.add(Activation('relu'))\n",
    "model.add(Flatten(input_shape=(28,28,1)))\n",
    "model.add(Dense(10))\n",
    "model.add(Activation('softmax'))"
   ]
  },
  {
   "cell_type": "code",
   "execution_count": 23,
   "metadata": {
    "collapsed": false
   },
   "outputs": [
    {
     "name": "stdout",
     "output_type": "stream",
     "text": [
      "Train on 60000 samples, validate on 10000 samples\n",
      "Epoch 1/5\n",
      "38s - loss: 1.8844 - acc: 0.8340 - val_loss: 0.1250 - val_acc: 0.9629\n",
      "Epoch 2/5\n",
      "36s - loss: 0.0901 - acc: 0.9741 - val_loss: 0.0983 - val_acc: 0.9687\n",
      "Epoch 3/5\n",
      "41s - loss: 0.0567 - acc: 0.9822 - val_loss: 0.1141 - val_acc: 0.9684\n",
      "Epoch 4/5\n",
      "37s - loss: 0.0449 - acc: 0.9859 - val_loss: 0.1141 - val_acc: 0.9714\n",
      "Epoch 5/5\n",
      "37s - loss: 0.0416 - acc: 0.9870 - val_loss: 0.1350 - val_acc: 0.9706\n"
     ]
    }
   ],
   "source": [
    "from keras.optimizers import Adam\n",
    "\n",
    "limit_param = 100\n",
    "\n",
    "def normal():\n",
    "    model.compile(loss='categorical_crossentropy', optimizer='adam', metrics=['accuracy'])\n",
    "    model.fit(x_train, y_train, batch_size=50, nb_epoch=5, validation_data=(x_test, y_test), verbose=2)\n",
    "def small():\n",
    "    model.compile(loss='categorical_crossentropy', optimizer=Adam(lr=0.001), metrics=['accuracy'])\n",
    "    model.fit(x_train[:limit_param], y_train[:limit_param], \n",
    "              batch_size=10, nb_epoch=8, verbose=2)\n",
    "    \n",
    "normal()\n"
   ]
  },
  {
   "cell_type": "code",
   "execution_count": null,
   "metadata": {
    "collapsed": true
   },
   "outputs": [],
   "source": []
  }
 ],
 "metadata": {
  "kernelspec": {
   "display_name": "Python 2",
   "language": "python",
   "name": "python2"
  },
  "language_info": {
   "codemirror_mode": {
    "name": "ipython",
    "version": 2
   },
   "file_extension": ".py",
   "mimetype": "text/x-python",
   "name": "python",
   "nbconvert_exporter": "python",
   "pygments_lexer": "ipython2",
   "version": "2.7.13"
  }
 },
 "nbformat": 4,
 "nbformat_minor": 2
}
